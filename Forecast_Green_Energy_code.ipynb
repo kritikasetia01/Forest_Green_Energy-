{
 "cells": [
  {
   "cell_type": "markdown",
   "id": "b089d8ab",
   "metadata": {},
   "source": [
    "# Importing Useful Libraries"
   ]
  },
  {
   "cell_type": "code",
   "execution_count": null,
   "id": "9ec38de5",
   "metadata": {},
   "outputs": [],
   "source": [
    "import pandas as pd \n",
    "import numpy as np \n",
    "import seaborn as sns\n",
    "import matplotlib.pyplot as plt\n",
    "from sklearn.model_selection import train_test_split\n",
    "from sklearn.linear_model import LinearRegression\n",
    "from sklearn.metrics import accuracy_score, mean_squared_error\n",
    "%matplotlib inline\n",
    "import datetime\n",
    "#imported all required libraries"
   ]
  },
  {
   "cell_type": "markdown",
   "id": "219f42c2",
   "metadata": {},
   "source": [
    "# Reading the given Data"
   ]
  },
  {
   "cell_type": "code",
   "execution_count": 42,
   "id": "b7f04016",
   "metadata": {},
   "outputs": [],
   "source": [
    "train=pd.read_csv(\"train3.csv\") #reading given data for training the model "
   ]
  },
  {
   "cell_type": "code",
   "execution_count": 43,
   "id": "5fc0fd63",
   "metadata": {},
   "outputs": [],
   "source": [
    "test=pd.read_csv(\"test3.csv\")  #reading given data for testing the model"
   ]
  },
  {
   "cell_type": "code",
   "execution_count": 44,
   "id": "1c0aaec7",
   "metadata": {
    "scrolled": true
   },
   "outputs": [
    {
     "data": {
      "text/html": [
       "<div>\n",
       "<style scoped>\n",
       "    .dataframe tbody tr th:only-of-type {\n",
       "        vertical-align: middle;\n",
       "    }\n",
       "\n",
       "    .dataframe tbody tr th {\n",
       "        vertical-align: top;\n",
       "    }\n",
       "\n",
       "    .dataframe thead th {\n",
       "        text-align: right;\n",
       "    }\n",
       "</style>\n",
       "<table border=\"1\" class=\"dataframe\">\n",
       "  <thead>\n",
       "    <tr style=\"text-align: right;\">\n",
       "      <th></th>\n",
       "      <th>row_id</th>\n",
       "      <th>datetime</th>\n",
       "      <th>energy</th>\n",
       "    </tr>\n",
       "  </thead>\n",
       "  <tbody>\n",
       "    <tr>\n",
       "      <th>0</th>\n",
       "      <td>1</td>\n",
       "      <td>2008-03-01 00:00:00</td>\n",
       "      <td>1259.985563</td>\n",
       "    </tr>\n",
       "    <tr>\n",
       "      <th>1</th>\n",
       "      <td>2</td>\n",
       "      <td>2008-03-01 01:00:00</td>\n",
       "      <td>1095.541500</td>\n",
       "    </tr>\n",
       "    <tr>\n",
       "      <th>2</th>\n",
       "      <td>3</td>\n",
       "      <td>2008-03-01 02:00:00</td>\n",
       "      <td>1056.247500</td>\n",
       "    </tr>\n",
       "    <tr>\n",
       "      <th>3</th>\n",
       "      <td>4</td>\n",
       "      <td>2008-03-01 03:00:00</td>\n",
       "      <td>1034.742000</td>\n",
       "    </tr>\n",
       "    <tr>\n",
       "      <th>4</th>\n",
       "      <td>5</td>\n",
       "      <td>2008-03-01 04:00:00</td>\n",
       "      <td>1026.334500</td>\n",
       "    </tr>\n",
       "  </tbody>\n",
       "</table>\n",
       "</div>"
      ],
      "text/plain": [
       "   row_id             datetime       energy\n",
       "0       1  2008-03-01 00:00:00  1259.985563\n",
       "1       2  2008-03-01 01:00:00  1095.541500\n",
       "2       3  2008-03-01 02:00:00  1056.247500\n",
       "3       4  2008-03-01 03:00:00  1034.742000\n",
       "4       5  2008-03-01 04:00:00  1026.334500"
      ]
     },
     "execution_count": 44,
     "metadata": {},
     "output_type": "execute_result"
    }
   ],
   "source": [
    "train.head()# displaying top 5 rows to see the given dataset"
   ]
  },
  {
   "cell_type": "markdown",
   "id": "a530fa37",
   "metadata": {},
   "source": [
    "# Data Exploration\n"
   ]
  },
  {
   "cell_type": "code",
   "execution_count": 45,
   "id": "63393b1f",
   "metadata": {},
   "outputs": [
    {
     "data": {
      "text/plain": [
       "(94992, 3)"
      ]
     },
     "execution_count": 45,
     "metadata": {},
     "output_type": "execute_result"
    }
   ],
   "source": [
    "train.shape #to find the rows and columns "
   ]
  },
  {
   "cell_type": "code",
   "execution_count": 46,
   "id": "bd83480f",
   "metadata": {},
   "outputs": [
    {
     "name": "stdout",
     "output_type": "stream",
     "text": [
      "<class 'pandas.core.frame.DataFrame'>\n",
      "RangeIndex: 94992 entries, 0 to 94991\n",
      "Data columns (total 3 columns):\n",
      " #   Column    Non-Null Count  Dtype  \n",
      "---  ------    --------------  -----  \n",
      " 0   row_id    94992 non-null  int64  \n",
      " 1   datetime  94992 non-null  object \n",
      " 2   energy    93092 non-null  float64\n",
      "dtypes: float64(1), int64(1), object(1)\n",
      "memory usage: 2.2+ MB\n"
     ]
    }
   ],
   "source": [
    "train.info() #to find out the datatypes and null values "
   ]
  },
  {
   "cell_type": "code",
   "execution_count": 47,
   "id": "f1b8ed27",
   "metadata": {},
   "outputs": [
    {
     "data": {
      "text/plain": [
       "row_id      0\n",
       "datetime    0\n",
       "energy      0\n",
       "dtype: int64"
      ]
     },
     "execution_count": 47,
     "metadata": {},
     "output_type": "execute_result"
    }
   ],
   "source": [
    "train.dropna(inplace=True)\n",
    "train.isnull().sum()# drop the data hvaing null values and then check for more null values "
   ]
  },
  {
   "cell_type": "code",
   "execution_count": 48,
   "id": "9abb54e1",
   "metadata": {},
   "outputs": [],
   "source": [
    "train[\"date\"]=pd.to_datetime(train[\"datetime\"]).dt.date#spliting datetime into Day, month, year & hour,minutes, seconds\n",
    "train[\"hours\"]=pd.to_datetime(train[\"datetime\"]).dt.hour\n",
    "train[\"minutes\"]=pd.to_datetime(train[\"datetime\"]).dt.minute\n",
    "train[\"seconds\"]=pd.to_datetime(train[\"datetime\"]).dt.second\n",
    "\n"
   ]
  },
  {
   "cell_type": "code",
   "execution_count": 49,
   "id": "f3317b14",
   "metadata": {},
   "outputs": [
    {
     "name": "stderr",
     "output_type": "stream",
     "text": [
      "C:\\Users\\This pc\\AppData\\Local\\Temp\\ipykernel_15284\\2382734065.py:4: FutureWarning: Series.dt.weekofyear and Series.dt.week have been deprecated. Please use Series.dt.isocalendar().week instead.\n",
      "  train[\"week\"]=pd.to_datetime(train[\"date\"]).dt.week\n"
     ]
    }
   ],
   "source": [
    "train[\"day\"]=pd.to_datetime(train[\"date\"]).dt.day_name()\n",
    "train[\"month\"]=pd.to_datetime(train[\"date\"]).dt.month_name()\n",
    "train[\"year\"]=pd.to_datetime(train[\"date\"]).dt.year\n",
    "train[\"week\"]=pd.to_datetime(train[\"date\"]).dt.week\n"
   ]
  },
  {
   "cell_type": "code",
   "execution_count": 50,
   "id": "3affd209",
   "metadata": {},
   "outputs": [
    {
     "data": {
      "text/html": [
       "<div>\n",
       "<style scoped>\n",
       "    .dataframe tbody tr th:only-of-type {\n",
       "        vertical-align: middle;\n",
       "    }\n",
       "\n",
       "    .dataframe tbody tr th {\n",
       "        vertical-align: top;\n",
       "    }\n",
       "\n",
       "    .dataframe thead th {\n",
       "        text-align: right;\n",
       "    }\n",
       "</style>\n",
       "<table border=\"1\" class=\"dataframe\">\n",
       "  <thead>\n",
       "    <tr style=\"text-align: right;\">\n",
       "      <th></th>\n",
       "      <th>row_id</th>\n",
       "      <th>datetime</th>\n",
       "      <th>energy</th>\n",
       "      <th>date</th>\n",
       "      <th>hours</th>\n",
       "      <th>minutes</th>\n",
       "      <th>seconds</th>\n",
       "      <th>day</th>\n",
       "      <th>month</th>\n",
       "      <th>year</th>\n",
       "      <th>week</th>\n",
       "    </tr>\n",
       "  </thead>\n",
       "  <tbody>\n",
       "    <tr>\n",
       "      <th>0</th>\n",
       "      <td>1</td>\n",
       "      <td>2008-03-01 00:00:00</td>\n",
       "      <td>1259.985563</td>\n",
       "      <td>2008-03-01</td>\n",
       "      <td>0</td>\n",
       "      <td>0</td>\n",
       "      <td>0</td>\n",
       "      <td>Saturday</td>\n",
       "      <td>March</td>\n",
       "      <td>2008</td>\n",
       "      <td>9</td>\n",
       "    </tr>\n",
       "    <tr>\n",
       "      <th>1</th>\n",
       "      <td>2</td>\n",
       "      <td>2008-03-01 01:00:00</td>\n",
       "      <td>1095.541500</td>\n",
       "      <td>2008-03-01</td>\n",
       "      <td>1</td>\n",
       "      <td>0</td>\n",
       "      <td>0</td>\n",
       "      <td>Saturday</td>\n",
       "      <td>March</td>\n",
       "      <td>2008</td>\n",
       "      <td>9</td>\n",
       "    </tr>\n",
       "    <tr>\n",
       "      <th>2</th>\n",
       "      <td>3</td>\n",
       "      <td>2008-03-01 02:00:00</td>\n",
       "      <td>1056.247500</td>\n",
       "      <td>2008-03-01</td>\n",
       "      <td>2</td>\n",
       "      <td>0</td>\n",
       "      <td>0</td>\n",
       "      <td>Saturday</td>\n",
       "      <td>March</td>\n",
       "      <td>2008</td>\n",
       "      <td>9</td>\n",
       "    </tr>\n",
       "    <tr>\n",
       "      <th>3</th>\n",
       "      <td>4</td>\n",
       "      <td>2008-03-01 03:00:00</td>\n",
       "      <td>1034.742000</td>\n",
       "      <td>2008-03-01</td>\n",
       "      <td>3</td>\n",
       "      <td>0</td>\n",
       "      <td>0</td>\n",
       "      <td>Saturday</td>\n",
       "      <td>March</td>\n",
       "      <td>2008</td>\n",
       "      <td>9</td>\n",
       "    </tr>\n",
       "    <tr>\n",
       "      <th>4</th>\n",
       "      <td>5</td>\n",
       "      <td>2008-03-01 04:00:00</td>\n",
       "      <td>1026.334500</td>\n",
       "      <td>2008-03-01</td>\n",
       "      <td>4</td>\n",
       "      <td>0</td>\n",
       "      <td>0</td>\n",
       "      <td>Saturday</td>\n",
       "      <td>March</td>\n",
       "      <td>2008</td>\n",
       "      <td>9</td>\n",
       "    </tr>\n",
       "  </tbody>\n",
       "</table>\n",
       "</div>"
      ],
      "text/plain": [
       "   row_id             datetime       energy        date  hours  minutes  \\\n",
       "0       1  2008-03-01 00:00:00  1259.985563  2008-03-01      0        0   \n",
       "1       2  2008-03-01 01:00:00  1095.541500  2008-03-01      1        0   \n",
       "2       3  2008-03-01 02:00:00  1056.247500  2008-03-01      2        0   \n",
       "3       4  2008-03-01 03:00:00  1034.742000  2008-03-01      3        0   \n",
       "4       5  2008-03-01 04:00:00  1026.334500  2008-03-01      4        0   \n",
       "\n",
       "   seconds       day  month  year  week  \n",
       "0        0  Saturday  March  2008     9  \n",
       "1        0  Saturday  March  2008     9  \n",
       "2        0  Saturday  March  2008     9  \n",
       "3        0  Saturday  March  2008     9  \n",
       "4        0  Saturday  March  2008     9  "
      ]
     },
     "execution_count": 50,
     "metadata": {},
     "output_type": "execute_result"
    }
   ],
   "source": [
    "train.head()"
   ]
  },
  {
   "cell_type": "code",
   "execution_count": 51,
   "id": "966213d1",
   "metadata": {},
   "outputs": [
    {
     "data": {
      "text/plain": [
       "<AxesSubplot:xlabel='energy', ylabel='year'>"
      ]
     },
     "execution_count": 51,
     "metadata": {},
     "output_type": "execute_result"
    },
    {
     "data": {
      "image/png": "[encoded data removed]",
      "text/plain": [
       "<Figure size 432x288 with 1 Axes>"
      ]
     },
     "metadata": {
      "needs_background": "light"
     },
     "output_type": "display_data"
    }
   ],
   "source": [
    "\n",
    "sns.lineplot(x=train[\"energy\"], y=train[\"year\"], data=train)"
   ]
  },
  {
   "cell_type": "code",
   "execution_count": 52,
   "id": "05cf06bd",
   "metadata": {},
   "outputs": [
    {
     "data": {
      "text/plain": [
       "<seaborn.axisgrid.JointGrid at 0x29536b74a60>"
      ]
     },
     "execution_count": 52,
     "metadata": {},
     "output_type": "execute_result"
    },
    {
     "data": {
      "image/png": "[encoded data removed]",
      "text/plain": [
       "<Figure size 432x432 with 3 Axes>"
      ]
     },
     "metadata": {
      "needs_background": "light"
     },
     "output_type": "display_data"
    }
   ],
   "source": [
    "sns.jointplot(x=train[\"energy\"], y=train[\"year\"], data=train) # to see the distribution of independent variable vs dependent variables. "
   ]
  },
  {
   "cell_type": "code",
   "execution_count": 53,
   "id": "cb178879",
   "metadata": {},
   "outputs": [
    {
     "data": {
      "text/plain": [
       "array([2008, 2009, 2010, 2011, 2012, 2013, 2014, 2015, 2016, 2017, 2018],\n",
       "      dtype=int64)"
      ]
     },
     "execution_count": 53,
     "metadata": {},
     "output_type": "execute_result"
    }
   ],
   "source": [
    "train.year.unique()# to see how many years of data is available"
   ]
  },
  {
   "cell_type": "code",
   "execution_count": 54,
   "id": "4e7dad68",
   "metadata": {},
   "outputs": [
    {
     "data": {
      "text/plain": [
       "<AxesSubplot:xlabel='hours', ylabel='energy'>"
      ]
     },
     "execution_count": 54,
     "metadata": {},
     "output_type": "execute_result"
    },
    {
     "data": {
      "image/png": "[encoded data removed]",
      "text/plain": [
       "<Figure size 432x288 with 1 Axes>"
      ]
     },
     "metadata": {
      "needs_background": "light"
     },
     "output_type": "display_data"
    }
   ],
   "source": [
    "sns.lineplot(x=train[\"hours\"], y=train[\"energy\"], data=train)\n",
    "#t osee energy usage on hourly bases  "
   ]
  },
  {
   "cell_type": "markdown",
   "id": "b8b5119b",
   "metadata": {},
   "source": [
    "# Model Training  "
   ]
  },
  {
   "cell_type": "code",
   "execution_count": 55,
   "id": "bf028acb",
   "metadata": {},
   "outputs": [],
   "source": [
    "model=LinearRegression() #Training the model "
   ]
  },
  {
   "cell_type": "code",
   "execution_count": 56,
   "id": "a1294dcc",
   "metadata": {},
   "outputs": [
    {
     "data": {
      "text/plain": [
       "Index(['row_id', 'datetime', 'energy', 'date', 'hours', 'minutes', 'seconds',\n",
       "       'day', 'month', 'year', 'week'],\n",
       "      dtype='object')"
      ]
     },
     "execution_count": 56,
     "metadata": {},
     "output_type": "execute_result"
    }
   ],
   "source": [
    "train.columns"
   ]
  },
  {
   "cell_type": "code",
   "execution_count": 57,
   "id": "a3a76007",
   "metadata": {},
   "outputs": [],
   "source": [
    "X=train[['row_id', 'hours', 'minutes', 'seconds', 'year', 'week']]\n",
    "y=train[\"energy\"]"
   ]
  },
  {
   "cell_type": "code",
   "execution_count": 58,
   "id": "115763d1",
   "metadata": {},
   "outputs": [
    {
     "data": {
      "text/plain": [
       "LinearRegression()"
      ]
     },
     "execution_count": 58,
     "metadata": {},
     "output_type": "execute_result"
    }
   ],
   "source": [
    "model.fit(X,y)"
   ]
  },
  {
   "cell_type": "code",
   "execution_count": 70,
   "id": "8cb1e705",
   "metadata": {},
   "outputs": [
    {
     "name": "stderr",
     "output_type": "stream",
     "text": [
      "C:\\Users\\This pc\\AppData\\Local\\Temp\\ipykernel_15284\\3163542237.py:6: FutureWarning: Series.dt.weekofyear and Series.dt.week have been deprecated. Please use Series.dt.isocalendar().week instead.\n",
      "  test[\"week\"]=pd.to_datetime(test[\"datetime\"]).dt.week\n",
      "C:\\ProgramData\\Anaconda3\\lib\\site-packages\\sklearn\\base.py:493: FutureWarning: The feature names should match those that were passed during fit. Starting version 1.2, an error will be raised.\n",
      "Feature names unseen at fit time:\n",
      "- Hours\n",
      "- Minutes\n",
      "- Seconds\n",
      "Feature names seen at fit time, yet now missing:\n",
      "- hours\n",
      "- minutes\n",
      "- seconds\n",
      "\n",
      "  warnings.warn(message, FutureWarning)\n"
     ]
    }
   ],
   "source": [
    "test.head()# change test data to fit into the model built by training data  \n",
    "test[\"Hours\"]=pd.to_datetime(test[\"datetime\"]).dt.hour\n",
    "test[\"Minutes\"]=pd.to_datetime(test[\"datetime\"]).dt.minute\n",
    "test[\"Seconds\"]=pd.to_datetime(test[\"datetime\"]).dt.second\n",
    "test[\"year\"]=pd.to_datetime(test[\"datetime\"]).dt.year\n",
    "test[\"week\"]=pd.to_datetime(test[\"datetime\"]).dt.week\n",
    "ypred=model.predict(test[['row_id', 'Hours', 'Minutes', 'Seconds', 'year', 'week']])"
   ]
  },
  {
   "cell_type": "code",
   "execution_count": 71,
   "id": "a07f7edd",
   "metadata": {},
   "outputs": [
    {
     "data": {
      "text/plain": [
       "Index(['row_id', 'datetime', 'Hours', 'Minutes', 'Seconds', 'year', 'week',\n",
       "       'Energy'],\n",
       "      dtype='object')"
      ]
     },
     "execution_count": 71,
     "metadata": {},
     "output_type": "execute_result"
    }
   ],
   "source": [
    "test.columns #column Headers "
   ]
  },
  {
   "cell_type": "markdown",
   "id": "e28ac8e7",
   "metadata": {},
   "source": [
    "# Predicting Model and storing values to test.Energy"
   ]
  },
  {
   "cell_type": "code",
   "execution_count": 84,
   "id": "5c9c4106",
   "metadata": {},
   "outputs": [
    {
     "data": {
      "text/html": [
       "<div>\n",
       "<style scoped>\n",
       "    .dataframe tbody tr th:only-of-type {\n",
       "        vertical-align: middle;\n",
       "    }\n",
       "\n",
       "    .dataframe tbody tr th {\n",
       "        vertical-align: top;\n",
       "    }\n",
       "\n",
       "    .dataframe thead th {\n",
       "        text-align: right;\n",
       "    }\n",
       "</style>\n",
       "<table border=\"1\" class=\"dataframe\">\n",
       "  <thead>\n",
       "    <tr style=\"text-align: right;\">\n",
       "      <th></th>\n",
       "      <th>row_id</th>\n",
       "      <th>datetime</th>\n",
       "      <th>Hours</th>\n",
       "      <th>Minutes</th>\n",
       "      <th>Seconds</th>\n",
       "      <th>year</th>\n",
       "      <th>week</th>\n",
       "      <th>Energy</th>\n",
       "      <th>energy</th>\n",
       "    </tr>\n",
       "  </thead>\n",
       "  <tbody>\n",
       "    <tr>\n",
       "      <th>0</th>\n",
       "      <td>94993</td>\n",
       "      <td>2019-01-01 00:00:00</td>\n",
       "      <td>0</td>\n",
       "      <td>0</td>\n",
       "      <td>0</td>\n",
       "      <td>2019</td>\n",
       "      <td>1</td>\n",
       "      <td>1879.104994</td>\n",
       "      <td>1879.105</td>\n",
       "    </tr>\n",
       "    <tr>\n",
       "      <th>1</th>\n",
       "      <td>94994</td>\n",
       "      <td>2019-01-01 01:00:00</td>\n",
       "      <td>1</td>\n",
       "      <td>0</td>\n",
       "      <td>0</td>\n",
       "      <td>2019</td>\n",
       "      <td>1</td>\n",
       "      <td>1896.187514</td>\n",
       "      <td>1896.188</td>\n",
       "    </tr>\n",
       "    <tr>\n",
       "      <th>2</th>\n",
       "      <td>94995</td>\n",
       "      <td>2019-01-01 02:00:00</td>\n",
       "      <td>2</td>\n",
       "      <td>0</td>\n",
       "      <td>0</td>\n",
       "      <td>2019</td>\n",
       "      <td>1</td>\n",
       "      <td>1913.270034</td>\n",
       "      <td>1913.270</td>\n",
       "    </tr>\n",
       "    <tr>\n",
       "      <th>3</th>\n",
       "      <td>94996</td>\n",
       "      <td>2019-01-01 03:00:00</td>\n",
       "      <td>3</td>\n",
       "      <td>0</td>\n",
       "      <td>0</td>\n",
       "      <td>2019</td>\n",
       "      <td>1</td>\n",
       "      <td>1930.352553</td>\n",
       "      <td>1930.353</td>\n",
       "    </tr>\n",
       "    <tr>\n",
       "      <th>4</th>\n",
       "      <td>94997</td>\n",
       "      <td>2019-01-01 04:00:00</td>\n",
       "      <td>4</td>\n",
       "      <td>0</td>\n",
       "      <td>0</td>\n",
       "      <td>2019</td>\n",
       "      <td>1</td>\n",
       "      <td>1947.435073</td>\n",
       "      <td>1947.435</td>\n",
       "    </tr>\n",
       "  </tbody>\n",
       "</table>\n",
       "</div>"
      ],
      "text/plain": [
       "   row_id             datetime  Hours  Minutes  Seconds  year  week  \\\n",
       "0   94993  2019-01-01 00:00:00      0        0        0  2019     1   \n",
       "1   94994  2019-01-01 01:00:00      1        0        0  2019     1   \n",
       "2   94995  2019-01-01 02:00:00      2        0        0  2019     1   \n",
       "3   94996  2019-01-01 03:00:00      3        0        0  2019     1   \n",
       "4   94997  2019-01-01 04:00:00      4        0        0  2019     1   \n",
       "\n",
       "        Energy    energy  \n",
       "0  1879.104994  1879.105  \n",
       "1  1896.187514  1896.188  \n",
       "2  1913.270034  1913.270  \n",
       "3  1930.352553  1930.353  \n",
       "4  1947.435073  1947.435  "
      ]
     },
     "execution_count": 84,
     "metadata": {},
     "output_type": "execute_result"
    }
   ],
   "source": [
    "test[\"energy\"]=ypred.round(3)\n",
    "test.head()#to store the predicted values into energy column in test data"
   ]
  },
  {
   "cell_type": "markdown",
   "id": "21e2527e",
   "metadata": {},
   "source": [
    "# RMSE"
   ]
  },
  {
   "cell_type": "code",
   "execution_count": 85,
   "id": "672f5d06",
   "metadata": {},
   "outputs": [
    {
     "name": "stdout",
     "output_type": "stream",
     "text": [
      "RMSE evaluation metrics result is 816.841383191845\n"
     ]
    }
   ],
   "source": [
    "#RMSE Evaluation method\n",
    "mse=mean_squared_error(y[1:26305],ypred)\n",
    "RMSE=np.sqrt(mse)\n",
    "print(\"RMSE evaluation metrics result is\",RMSE)"
   ]
  },
  {
   "cell_type": "code",
   "execution_count": 86,
   "id": "c1856698",
   "metadata": {},
   "outputs": [
    {
     "data": {
      "text/plain": [
       "<AxesSubplot:xlabel='year', ylabel='energy'>"
      ]
     },
     "execution_count": 86,
     "metadata": {},
     "output_type": "execute_result"
    },
    {
     "data": {
      "image/png": "[encoded data removed]",
      "text/plain": [
       "<Figure size 432x288 with 1 Axes>"
      ]
     },
     "metadata": {
      "needs_background": "light"
     },
     "output_type": "display_data"
    }
   ],
   "source": [
    "sns.lineplot(x=test[\"year\"], y=test[\"energy\"], data=test)"
   ]
  },
  {
   "cell_type": "code",
   "execution_count": 87,
   "id": "4671e7aa",
   "metadata": {},
   "outputs": [
    {
     "data": {
      "text/plain": [
       "<AxesSubplot:xlabel='Hours', ylabel='energy'>"
      ]
     },
     "execution_count": 87,
     "metadata": {},
     "output_type": "execute_result"
    },
    {
     "data": {
      "image/png": "[encoded data removed]",
      "text/plain": [
       "<Figure size 432x288 with 1 Axes>"
      ]
     },
     "metadata": {
      "needs_background": "light"
     },
     "output_type": "display_data"
    }
   ],
   "source": [
    "\n",
    "sns.lineplot(x=test[\"Hours\"], y=test[\"energy\"], data=test)\n"
   ]
  },
  {
   "cell_type": "markdown",
   "id": "9dc1bf39",
   "metadata": {},
   "source": [
    "# Creating a New file sample_submission.csv and save data to it"
   ]
  },
  {
   "cell_type": "code",
   "execution_count": 88,
   "id": "ccdde123",
   "metadata": {},
   "outputs": [
    {
     "data": {
      "text/html": [
       "<div>\n",
       "<style scoped>\n",
       "    .dataframe tbody tr th:only-of-type {\n",
       "        vertical-align: middle;\n",
       "    }\n",
       "\n",
       "    .dataframe tbody tr th {\n",
       "        vertical-align: top;\n",
       "    }\n",
       "\n",
       "    .dataframe thead th {\n",
       "        text-align: right;\n",
       "    }\n",
       "</style>\n",
       "<table border=\"1\" class=\"dataframe\">\n",
       "  <thead>\n",
       "    <tr style=\"text-align: right;\">\n",
       "      <th></th>\n",
       "      <th>row_id</th>\n",
       "      <th>energy</th>\n",
       "    </tr>\n",
       "  </thead>\n",
       "  <tbody>\n",
       "    <tr>\n",
       "      <th>0</th>\n",
       "      <td>94993</td>\n",
       "      <td>1879.105</td>\n",
       "    </tr>\n",
       "    <tr>\n",
       "      <th>1</th>\n",
       "      <td>94994</td>\n",
       "      <td>1896.188</td>\n",
       "    </tr>\n",
       "  </tbody>\n",
       "</table>\n",
       "</div>"
      ],
      "text/plain": [
       "   row_id    energy\n",
       "0   94993  1879.105\n",
       "1   94994  1896.188"
      ]
     },
     "execution_count": 88,
     "metadata": {},
     "output_type": "execute_result"
    }
   ],
   "source": [
    "sample_submission = test[[\"row_id\", \"energy\"]] #saving output to Sample_Submission file \n",
    "sample_submission.head(2)"
   ]
  },
  {
   "cell_type": "code",
   "execution_count": 89,
   "id": "d698de82",
   "metadata": {},
   "outputs": [],
   "source": [
    "df=sample_submission.to_csv('sample_submission.csv', header=True, index=False)"
   ]
  },
  {
   "cell_type": "code",
   "execution_count": 90,
   "id": "e0688aa5",
   "metadata": {},
   "outputs": [
    {
     "data": {
      "text/plain": [
       "0.75"
      ]
     },
     "execution_count": 90,
     "metadata": {},
     "output_type": "execute_result"
    }
   ],
   "source": [
    "1800/2400"
   ]
  },
  {
   "cell_type": "code",
   "execution_count": null,
   "id": "88ccca78",
   "metadata": {},
   "outputs": [],
   "source": []
  }
 ],
 "metadata": {
  "kernelspec": {
   "display_name": "Python 3 (ipykernel)",
   "language": "python",
   "name": "python3"
  },
  "language_info": {
   "codemirror_mode": {
    "name": "ipython",
    "version": 3
   },
   "file_extension": ".py",
   "mimetype": "text/x-python",
   "name": "python",
   "nbconvert_exporter": "python",
   "pygments_lexer": "ipython3",
   "version": "3.9.12"
  }
 },
 "nbformat": 4,
 "nbformat_minor": 5
}
